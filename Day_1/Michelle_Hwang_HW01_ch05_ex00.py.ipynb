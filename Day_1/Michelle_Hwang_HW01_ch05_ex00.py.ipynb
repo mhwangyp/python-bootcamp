{
 "cells": [
  {
   "cell_type": "code",
   "execution_count": 19,
   "metadata": {},
   "outputs": [
    {
     "name": "stdout",
     "output_type": "stream",
     "text": [
      "Hello World\n",
      "Hello World\n",
      "Hello World\n",
      "Hello World\n",
      "Hello World\n"
     ]
    }
   ],
   "source": [
    "#!/usr/bin/env python\n",
    "# HW02_ch05_ex00 (See 5.9)\n",
    "\n",
    "# Write a function called do_n that takes a function object and a number, n, as\n",
    "# arguments, and that calls the given function n times.\n",
    "\n",
    "###############################################################################\n",
    "# Write your functions below:\n",
    "# Body\n",
    "\n",
    "def do_n(f,n):\n",
    "    for i in range(n):\n",
    "        f()\n",
    "\n",
    "# do_n(print_hello,4)\n",
    "    \n",
    "# Write your functions above:\n",
    "\n",
    "def print_hello():\n",
    "    print(\"Hello World\")\n",
    "\n",
    "###############################################################################\n",
    "def main():\n",
    "    \"\"\"Call your function within this function.\n",
    "    When complete have one function call in this function:\n",
    "    do_n(print_hello, 10)\n",
    "    \"\"\"\n",
    "    print_hello()  # replace this with do_n(print_hello, 10)\n",
    "\n",
    "\n",
    "if __name__ == \"__main__\":\n",
    "    main()\n"
   ]
  },
  {
   "cell_type": "code",
   "execution_count": null,
   "metadata": {},
   "outputs": [],
   "source": []
  }
 ],
 "metadata": {
  "kernelspec": {
   "display_name": "Python 3",
   "language": "python",
   "name": "python3"
  },
  "language_info": {
   "codemirror_mode": {
    "name": "ipython",
    "version": 3
   },
   "file_extension": ".py",
   "mimetype": "text/x-python",
   "name": "python",
   "nbconvert_exporter": "python",
   "pygments_lexer": "ipython3",
   "version": "3.7.4"
  }
 },
 "nbformat": 4,
 "nbformat_minor": 2
}
