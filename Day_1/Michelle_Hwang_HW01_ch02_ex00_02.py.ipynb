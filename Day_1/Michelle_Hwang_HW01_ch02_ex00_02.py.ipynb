{
 "cells": [
  {
   "cell_type": "code",
   "execution_count": null,
   "metadata": {},
   "outputs": [],
   "source": [
    "# HW01_ch02_ex00_02\n",
    "# NOTE: You do not run this script.\n",
    "# Assume that we execute the following assignment statements:\n",
    "# width = 17\n",
    "# height = 12.0\n",
    "# delimiter = '.'\n",
    "#\n",
    "# For each of the following expressions, write the value of the expression\n",
    "# and the type (of the value of the expression).\n",
    "\n",
    "# 1. width/2\n",
    "# value: 8.5\n",
    "# type: float\n",
    "\n",
    "# 2. width/2.0\n",
    "# value: 8.5\n",
    "# type: float\n",
    "\n",
    "# 3. height/3\n",
    "# value: 4.0\n",
    "# type: float\n",
    "\n",
    "# 4. 1 + 2 * 5\n",
    "# value: 11\n",
    "# type: int\n",
    "\n",
    "# 5. delimiter * 5\n",
    "# value: '.....'\n",
    "# type: str\n",
    "#\n",
    "# Use the Python interpreter to check your answers.\n",
    "# [comment on any surprises here]\n",
    "# surprised that we are able to multiply strings with an integer. \n"
   ]
  }
 ],
 "metadata": {
  "kernelspec": {
   "display_name": "Python 3",
   "language": "python",
   "name": "python3"
  },
  "language_info": {
   "codemirror_mode": {
    "name": "ipython",
    "version": 3
   },
   "file_extension": ".py",
   "mimetype": "text/x-python",
   "name": "python",
   "nbconvert_exporter": "python",
   "pygments_lexer": "ipython3",
   "version": "3.7.4"
  }
 },
 "nbformat": 4,
 "nbformat_minor": 2
}
