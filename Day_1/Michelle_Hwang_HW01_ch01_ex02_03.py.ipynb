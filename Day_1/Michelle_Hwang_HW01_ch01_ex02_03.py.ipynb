{
 "cells": [
  {
   "cell_type": "code",
   "execution_count": 17,
   "metadata": {},
   "outputs": [
    {
     "name": "stdout",
     "output_type": "stream",
     "text": [
      "(6.0, 52.31393428459404)\n",
      "42.7\n"
     ]
    }
   ],
   "source": [
    "# HW01_ch01_ex02_03\n",
    "# Start the Python interpreter and use it as a calculator.\n",
    "# Python's syntax for math operations is almost the same as\n",
    "# standard mathematical notation. For example, the symbols\n",
    "# +, - and / denote addition, subtraction and division, as you would expect.\n",
    "# The symbol for multiplication is *.\n",
    "\n",
    "# If you run a 10 kilometer race in 42 minutes 42 seconds, what is your\n",
    "# average pace (time per mile in minutes and seconds)? What is your average\n",
    "# speed in miles per hour?\n",
    "\n",
    "# Insert Answers\n",
    "\n",
    "# Average Pace (minutes & seconds per mile): [answer here] 6 minutes and 52.31 seconds per mile\n",
    "\n",
    "# Average Speed in MPH: [answer here] 0.71 miles per hour\n",
    "\n",
    "# Insert calculations below (paste from the interpreter):\n",
    "\n",
    "kilometers = 10\n",
    "conversion_factor = 0.62137119\n",
    "\n",
    "distanceMiles = 10*0.62137119\n",
    "\n",
    "timeSeconds = 42*60+42 \n",
    "\n",
    "averagePace = divmod(timeSeconds/distanceMiles,60)\n",
    "\n",
    "timeHours = timeSeconds/60/60\n",
    "\n",
    "averageMPH = distanceMiles/timeHours"
   ]
  },
  {
   "cell_type": "code",
   "execution_count": null,
   "metadata": {},
   "outputs": [],
   "source": []
  }
 ],
 "metadata": {
  "kernelspec": {
   "display_name": "Python 3",
   "language": "python",
   "name": "python3"
  },
  "language_info": {
   "codemirror_mode": {
    "name": "ipython",
    "version": 3
   },
   "file_extension": ".py",
   "mimetype": "text/x-python",
   "name": "python",
   "nbconvert_exporter": "python",
   "pygments_lexer": "ipython3",
   "version": "3.7.4"
  }
 },
 "nbformat": 4,
 "nbformat_minor": 2
}
