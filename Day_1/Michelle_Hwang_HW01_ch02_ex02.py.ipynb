{
 "cells": [
  {
   "cell_type": "code",
   "execution_count": 20,
   "metadata": {},
   "outputs": [
    {
     "ename": "SyntaxError",
     "evalue": "invalid syntax (<ipython-input-20-9b8374c0c402>, line 11)",
     "output_type": "error",
     "traceback": [
      "\u001b[0;36m  File \u001b[0;32m\"<ipython-input-20-9b8374c0c402>\"\u001b[0;36m, line \u001b[0;32m11\u001b[0m\n\u001b[0;31m    >>> import math\u001b[0m\n\u001b[0m     ^\u001b[0m\n\u001b[0;31mSyntaxError\u001b[0m\u001b[0;31m:\u001b[0m invalid syntax\n"
     ]
    }
   ],
   "source": [
    "# HW01_ch02_ex02\n",
    "# NOTE: You do not run this script.\n",
    "# #\n",
    "# Practice using the Python interpreter as a calculator.\n",
    "# Paste answer and calculations below\n",
    "\n",
    "# 1. The volume of a sphere with radius r is 4/3 π r^3.\n",
    "# What is the volume of a sphere with radius 5? [answer here] 62.8318\n",
    "# [calculations here]\n",
    "\n",
    ">>> import math\n",
    ">>> 4/3*math.pi*5*3\n",
    "\n",
    "# 2. Suppose the cover price of a book is $24.95, but bookstores get a\n",
    "# 40% discount. Shipping costs $3 for the first copy and 75 cents for\n",
    "# each additional copy. What is the total wholesale cost for 60 copies?\n",
    "# total wholesale cost: [answer here] 137.07\n",
    "# [calculations here]\n",
    "\n",
    ">>> 24.95*.06+3+24.95*.06*59+.75*59\n",
    "\n",
    "# 3. If I leave my house at 6:52 am and run 1 mile at an easy pace\n",
    "# (8:15 per mile), then 3 miles at tempo (7:12 per mile) and 1 mile at easy\n",
    "# pace again, what time do I get home for breakfast?\n",
    "# time: [answer here] 7:15am\n",
    "\n",
    "# [calculations here]\n",
    "\n",
    ">>> secondsTotal = (8*60+15)*2+(7*60+12)\n",
    ">>> minuteSeconds =  divmod(secondsTotal,60)\n",
    "\n",
    "# got 23 minutes and 42 seconds in total time running\n",
    "\n",
    ">>> print(minuteSeconds)\n",
    "\n",
    "# 6:52am + 23 minutes + 42 seconds\n",
    "\n",
    ">>> int((52+23)/60) # new hour is 6 + 1 hour\n",
    ">>> (52+23)%60 # new minute is 15 minutes\n",
    "\n",
    "\n"
   ]
  },
  {
   "cell_type": "code",
   "execution_count": null,
   "metadata": {},
   "outputs": [],
   "source": []
  }
 ],
 "metadata": {
  "kernelspec": {
   "display_name": "Python 3",
   "language": "python",
   "name": "python3"
  },
  "language_info": {
   "codemirror_mode": {
    "name": "ipython",
    "version": 3
   },
   "file_extension": ".py",
   "mimetype": "text/x-python",
   "name": "python",
   "nbconvert_exporter": "python",
   "pygments_lexer": "ipython3",
   "version": "3.7.4"
  }
 },
 "nbformat": 4,
 "nbformat_minor": 2
}
