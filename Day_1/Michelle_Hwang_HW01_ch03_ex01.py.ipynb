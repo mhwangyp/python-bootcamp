{
 "cells": [
  {
   "cell_type": "code",
   "execution_count": 3,
   "metadata": {},
   "outputs": [
    {
     "name": "stdout",
     "output_type": "stream",
     "text": [
      "                                                                 allen\n"
     ]
    }
   ],
   "source": [
    "#!/usr/bin/env python\n",
    "# HW02_ch03_ex01\n",
    "\n",
    "# Python provides a built-in function called len that returns the length\n",
    "# of a string, so the value of len('monty') is 5.\n",
    "\n",
    "# Write a function named `right_justify` that takes a string named `s` as a\n",
    "# parameter and prints the string with enough leading spaces so that the\n",
    "# last letter of the string is in column 70 of the display.\n",
    "\n",
    "# Example:\n",
    "# >>> right_justify('monty')\n",
    "#                                                                  monty\n",
    "###############################################################################\n",
    "# Write your function below:\n",
    "# Body\n",
    "\n",
    "def right_justify(s):\n",
    "    print (' '*(70-len(s))+s)\n",
    "\n",
    "right_justify('allen')\n",
    "\n",
    "# Write your function above:\n",
    "# ###############################################################################\n",
    "def main():\n",
    "    \"\"\"Call your functions within this function.\"\"\"\n",
    "    print(\"Hello World!\")\n",
    "    right_justify(\"Python\")\n",
    "    right_justify(\"YOUR_NAME\")\n",
    "\n",
    "\n",
    "if __name__ == \"__main__\":\n",
    "    main()\n"
   ]
  },
  {
   "cell_type": "code",
   "execution_count": null,
   "metadata": {},
   "outputs": [],
   "source": []
  }
 ],
 "metadata": {
  "kernelspec": {
   "display_name": "Python 3",
   "language": "python",
   "name": "python3"
  },
  "language_info": {
   "codemirror_mode": {
    "name": "ipython",
    "version": 3
   },
   "file_extension": ".py",
   "mimetype": "text/x-python",
   "name": "python",
   "nbconvert_exporter": "python",
   "pygments_lexer": "ipython3",
   "version": "3.7.4"
  }
 },
 "nbformat": 4,
 "nbformat_minor": 2
}
