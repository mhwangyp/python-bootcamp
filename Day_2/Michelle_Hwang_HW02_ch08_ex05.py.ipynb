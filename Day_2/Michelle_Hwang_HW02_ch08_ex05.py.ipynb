{
 "cells": [
  {
   "cell_type": "code",
   "execution_count": 20,
   "metadata": {},
   "outputs": [
    {
     "name": "stdout",
     "output_type": "stream",
     "text": [
      "jolly\n",
      "HAL\n"
     ]
    }
   ],
   "source": [
    "# Structure this script entirely on your own.\n",
    "# See Chapter 8: Strings Exercise 5 for the task.\n",
    "# Please do provide function calls that test/demonstrate your\n",
    "# function.\n",
    "# Please write a docstring for every function you write.\n",
    "\n",
    "# My rotate_word function\n",
    "\n",
    "def rotate_word(s,int):\n",
    "    \"\"\"this function takes a string and an integer as parameters, and returns a new string that contains the letters \n",
    "    from the original string rotated by the given amount.\n",
    "    \"\"\"\n",
    "    rotated_word = ''\n",
    "    for letter in s:\n",
    "        rotated_word += chr(ord(letter) + int)\n",
    "    return rotated_word\n",
    "\n",
    "# function calls that test my function\n",
    "\n",
    "print(rotate_word('cheer', 7))\n",
    "print(rotate_word('IBM', -1))\n"
   ]
  },
  {
   "cell_type": "code",
   "execution_count": null,
   "metadata": {},
   "outputs": [],
   "source": []
  }
 ],
 "metadata": {
  "kernelspec": {
   "display_name": "Python 3",
   "language": "python",
   "name": "python3"
  },
  "language_info": {
   "codemirror_mode": {
    "name": "ipython",
    "version": 3
   },
   "file_extension": ".py",
   "mimetype": "text/x-python",
   "name": "python",
   "nbconvert_exporter": "python",
   "pygments_lexer": "ipython3",
   "version": "3.7.4"
  }
 },
 "nbformat": 4,
 "nbformat_minor": 2
}
