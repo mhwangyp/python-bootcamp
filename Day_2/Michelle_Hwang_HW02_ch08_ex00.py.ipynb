{
 "cells": [
  {
   "cell_type": "code",
   "execution_count": 9,
   "metadata": {},
   "outputs": [
    {
     "name": "stdout",
     "output_type": "stream",
     "text": [
      "2\n",
      "Hello World!\n"
     ]
    }
   ],
   "source": [
    "#!/usr/bin/env python3\n",
    "# HW04_ch08_ex00\n",
    "# See 8.7\n",
    "\n",
    "# The following program counts the number of times the letter 'a' appears in a\n",
    "# string:\n",
    "\n",
    "#     word = 'banana'\n",
    "#     count = 0\n",
    "#     for letter in word:\n",
    "#         if letter == 'a':\n",
    "#             count = count + 1\n",
    "#     print(count)\n",
    "\n",
    "# Encapsulate this code in a function named \"count\", and generalize it so that\n",
    "# it accepts the string and the letter as arguments.\n",
    "\n",
    "# Please write a docstring for every function you write.\n",
    "\n",
    "###############################################################################\n",
    "# Imports\n",
    "\n",
    "\n",
    "# Body\n",
    "\n",
    "def count(s,l):\n",
    "    \"\"\"counts the number of times the letter in argument l appears in the string argument s\"\"\"\n",
    "    cnt = 0\n",
    "    for letter in s:\n",
    "        if letter == l :\n",
    "            cnt = cnt + 1\n",
    "    print(cnt)\n",
    "    \n",
    "###############################################################################\n",
    "def main():\n",
    "\n",
    "    # Remove print(\"Hello World!\") and add several functions calls to count()\n",
    "    # below, passing various strings and letters\n",
    "    print(\"Hello World!\")\n",
    "\n",
    "\n",
    "if __name__ == '__main__':\n",
    "    main()"
   ]
  },
  {
   "cell_type": "code",
   "execution_count": null,
   "metadata": {},
   "outputs": [],
   "source": []
  }
 ],
 "metadata": {
  "kernelspec": {
   "display_name": "Python 3",
   "language": "python",
   "name": "python3"
  },
  "language_info": {
   "codemirror_mode": {
    "name": "ipython",
    "version": 3
   },
   "file_extension": ".py",
   "mimetype": "text/x-python",
   "name": "python",
   "nbconvert_exporter": "python",
   "pygments_lexer": "ipython3",
   "version": "3.7.4"
  }
 },
 "nbformat": 4,
 "nbformat_minor": 2
}
